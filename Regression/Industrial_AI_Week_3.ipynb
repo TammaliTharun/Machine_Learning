{
 "cells": [
  {
   "cell_type": "code",
   "execution_count": 1,
   "id": "G0b6ihCWL-oc",
   "metadata": {
    "id": "G0b6ihCWL-oc"
   },
   "outputs": [],
   "source": [
    "#Import packages\n",
    "import numpy as np\n",
    "import matplotlib.pyplot as plt\n",
    "import pandas as pd\n",
    "import math\n",
    "from sklearn import datasets\n",
    "from sklearn.linear_model import LinearRegression"
   ]
  },
  {
   "cell_type": "markdown",
   "id": "-QeKzSKML-od",
   "metadata": {
    "id": "-QeKzSKML-od"
   },
   "source": [
    "# Data Processing and Visualization"
   ]
  },
  {
   "cell_type": "code",
   "execution_count": 2,
   "id": "tApfEGYBL-oe",
   "metadata": {
    "colab": {
     "base_uri": "https://localhost:8080/",
     "height": 206
    },
    "id": "tApfEGYBL-oe",
    "outputId": "de6e17ee-d756-47b4-e818-b86d99bc9f32"
   },
   "outputs": [
    {
     "data": {
      "text/html": [
       "<div>\n",
       "<style scoped>\n",
       "    .dataframe tbody tr th:only-of-type {\n",
       "        vertical-align: middle;\n",
       "    }\n",
       "\n",
       "    .dataframe tbody tr th {\n",
       "        vertical-align: top;\n",
       "    }\n",
       "\n",
       "    .dataframe thead th {\n",
       "        text-align: right;\n",
       "    }\n",
       "</style>\n",
       "<table border=\"1\" class=\"dataframe\">\n",
       "  <thead>\n",
       "    <tr style=\"text-align: right;\">\n",
       "      <th></th>\n",
       "      <th>age</th>\n",
       "      <th>sex</th>\n",
       "      <th>bmi</th>\n",
       "      <th>bp</th>\n",
       "      <th>s1</th>\n",
       "      <th>s2</th>\n",
       "      <th>s3</th>\n",
       "      <th>s4</th>\n",
       "      <th>s5</th>\n",
       "      <th>s6</th>\n",
       "    </tr>\n",
       "  </thead>\n",
       "  <tbody>\n",
       "    <tr>\n",
       "      <th>0</th>\n",
       "      <td>0.038076</td>\n",
       "      <td>0.050680</td>\n",
       "      <td>0.061696</td>\n",
       "      <td>0.021872</td>\n",
       "      <td>-0.044223</td>\n",
       "      <td>-0.034821</td>\n",
       "      <td>-0.043401</td>\n",
       "      <td>-0.002592</td>\n",
       "      <td>0.019907</td>\n",
       "      <td>-0.017646</td>\n",
       "    </tr>\n",
       "    <tr>\n",
       "      <th>1</th>\n",
       "      <td>-0.001882</td>\n",
       "      <td>-0.044642</td>\n",
       "      <td>-0.051474</td>\n",
       "      <td>-0.026328</td>\n",
       "      <td>-0.008449</td>\n",
       "      <td>-0.019163</td>\n",
       "      <td>0.074412</td>\n",
       "      <td>-0.039493</td>\n",
       "      <td>-0.068332</td>\n",
       "      <td>-0.092204</td>\n",
       "    </tr>\n",
       "    <tr>\n",
       "      <th>2</th>\n",
       "      <td>0.085299</td>\n",
       "      <td>0.050680</td>\n",
       "      <td>0.044451</td>\n",
       "      <td>-0.005670</td>\n",
       "      <td>-0.045599</td>\n",
       "      <td>-0.034194</td>\n",
       "      <td>-0.032356</td>\n",
       "      <td>-0.002592</td>\n",
       "      <td>0.002861</td>\n",
       "      <td>-0.025930</td>\n",
       "    </tr>\n",
       "    <tr>\n",
       "      <th>3</th>\n",
       "      <td>-0.089063</td>\n",
       "      <td>-0.044642</td>\n",
       "      <td>-0.011595</td>\n",
       "      <td>-0.036656</td>\n",
       "      <td>0.012191</td>\n",
       "      <td>0.024991</td>\n",
       "      <td>-0.036038</td>\n",
       "      <td>0.034309</td>\n",
       "      <td>0.022688</td>\n",
       "      <td>-0.009362</td>\n",
       "    </tr>\n",
       "    <tr>\n",
       "      <th>4</th>\n",
       "      <td>0.005383</td>\n",
       "      <td>-0.044642</td>\n",
       "      <td>-0.036385</td>\n",
       "      <td>0.021872</td>\n",
       "      <td>0.003935</td>\n",
       "      <td>0.015596</td>\n",
       "      <td>0.008142</td>\n",
       "      <td>-0.002592</td>\n",
       "      <td>-0.031988</td>\n",
       "      <td>-0.046641</td>\n",
       "    </tr>\n",
       "  </tbody>\n",
       "</table>\n",
       "</div>"
      ],
      "text/plain": [
       "        age       sex       bmi        bp        s1        s2        s3  \\\n",
       "0  0.038076  0.050680  0.061696  0.021872 -0.044223 -0.034821 -0.043401   \n",
       "1 -0.001882 -0.044642 -0.051474 -0.026328 -0.008449 -0.019163  0.074412   \n",
       "2  0.085299  0.050680  0.044451 -0.005670 -0.045599 -0.034194 -0.032356   \n",
       "3 -0.089063 -0.044642 -0.011595 -0.036656  0.012191  0.024991 -0.036038   \n",
       "4  0.005383 -0.044642 -0.036385  0.021872  0.003935  0.015596  0.008142   \n",
       "\n",
       "         s4        s5        s6  \n",
       "0 -0.002592  0.019907 -0.017646  \n",
       "1 -0.039493 -0.068332 -0.092204  \n",
       "2 -0.002592  0.002861 -0.025930  \n",
       "3  0.034309  0.022688 -0.009362  \n",
       "4 -0.002592 -0.031988 -0.046641  "
      ]
     },
     "execution_count": 2,
     "metadata": {},
     "output_type": "execute_result"
    }
   ],
   "source": [
    "# Load the diabetes dataset\n",
    "diabetes_X, diabetes_y = datasets.load_diabetes(return_X_y=True,as_frame=True)\n",
    "diabetes_X.head()"
   ]
  },
  {
   "cell_type": "code",
   "execution_count": 7,
   "id": "9I0zDTZmL-oe",
   "metadata": {
    "colab": {
     "base_uri": "https://localhost:8080/"
    },
    "id": "9I0zDTZmL-oe",
    "outputId": "a4a2318c-ae3a-4d41-ba0c-206dfdf40084"
   },
   "outputs": [
    {
     "data": {
      "text/plain": [
       "0      151.0\n",
       "1       75.0\n",
       "2      141.0\n",
       "3      206.0\n",
       "4      135.0\n",
       "       ...  \n",
       "437    178.0\n",
       "438    104.0\n",
       "439    132.0\n",
       "440    220.0\n",
       "441     57.0\n",
       "Name: target, Length: 442, dtype: float64"
      ]
     },
     "execution_count": 7,
     "metadata": {},
     "output_type": "execute_result"
    }
   ],
   "source": [
    "diabetes_y"
   ]
  },
  {
   "cell_type": "code",
   "execution_count": 4,
   "id": "3pNI3MzVL-oe",
   "metadata": {
    "id": "3pNI3MzVL-oe"
   },
   "outputs": [],
   "source": [
    "# Assign variables\n",
    "X = diabetes_X['s3']\n",
    "y = diabetes_y"
   ]
  },
  {
   "cell_type": "code",
   "execution_count": 5,
   "id": "e3UQGDGML-oe",
   "metadata": {
    "colab": {
     "base_uri": "https://localhost:8080/",
     "height": 489
    },
    "id": "e3UQGDGML-oe",
    "outputId": "80651cfe-8103-4984-e98a-3e23a05523a2"
   },
   "outputs": [
    {
     "data": {
      "text/plain": [
       "Text(0, 0.5, 'Disease Progression')"
      ]
     },
     "execution_count": 5,
     "metadata": {},
     "output_type": "execute_result"
    },
    {
     "data": {
      "image/png": "[encoded data removed]",
      "text/plain": [
       "<Figure size 640x480 with 1 Axes>"
      ]
     },
     "metadata": {},
     "output_type": "display_data"
    }
   ],
   "source": [
    "#Plot the dataset to visualize how to solve the problem\n",
    "plt.scatter(X,y,color = '#88c999') #Scatter plot\n",
    "plt.title('Diabetes dataset regression') #Set title\n",
    "plt.xlabel('BMI') #Set x axis label\n",
    "plt.ylabel('Disease Progression') #Set y axis label"
   ]
  },
  {
   "cell_type": "markdown",
   "id": "SjRw3uhwL-of",
   "metadata": {
    "id": "SjRw3uhwL-of"
   },
   "source": [
    "# OLS (Ordinary Least Squares) Solution"
   ]
  },
  {
   "cell_type": "code",
   "execution_count": 6,
   "id": "FA4TTTEeL-of",
   "metadata": {
    "id": "FA4TTTEeL-of"
   },
   "outputs": [],
   "source": [
    "X_mean = X.mean() # Mean of X\n",
    "y_mean = y.mean() # Mean of Y\n",
    "Sxx = np.sum((X - X_mean)**2) #Sum of Squares of X\n",
    "Sxy = np.sum((X - X_mean)*(y-y_mean)) # Sum of Squares of Products of X and Y\n",
    "Syy = np.sum((y-y_mean)**2) #Sum of Squares of Y"
   ]
  },
  {
   "cell_type": "markdown",
   "id": "-8JaJVdyL-of",
   "metadata": {
    "id": "-8JaJVdyL-of"
   },
   "source": [
    "# The solution in the OLS case is: $$\\hat{\\alpha} = \\frac{S_{xy}}{S_{xx}}$$  $$\\hat{\\beta} = \\bar{y} - \\hat{\\alpha}\\bar{x}$$\n"
   ]
  },
  {
   "cell_type": "code",
   "execution_count": 7,
   "id": "vBepESi2L-of",
   "metadata": {
    "colab": {
     "base_uri": "https://localhost:8080/"
    },
    "id": "vBepESi2L-of",
    "outputId": "76deb1b1-2c53-42c6-901b-0a05073df289"
   },
   "outputs": [
    {
     "data": {
      "text/plain": [
       "-639.145279322535"
      ]
     },
     "execution_count": 7,
     "metadata": {},
     "output_type": "execute_result"
    }
   ],
   "source": [
    "alpha = Sxy/Sxx #alpha calculation\n",
    "alpha"
   ]
  },
  {
   "cell_type": "code",
   "execution_count": 8,
   "id": "QzYYY_uPL-of",
   "metadata": {
    "colab": {
     "base_uri": "https://localhost:8080/"
    },
    "id": "QzYYY_uPL-of",
    "outputId": "9d6116db-3baa-4652-faa5-4ac449cc2c6a"
   },
   "outputs": [
    {
     "data": {
      "text/plain": [
       "152.13348416289594"
      ]
     },
     "execution_count": 8,
     "metadata": {},
     "output_type": "execute_result"
    }
   ],
   "source": [
    "beta = y_mean - alpha*X_mean #beta calculation\n",
    "beta"
   ]
  },
  {
   "cell_type": "code",
   "execution_count": 9,
   "id": "a2lh8bPbL-of",
   "metadata": {
    "id": "a2lh8bPbL-of"
   },
   "outputs": [],
   "source": [
    "#Function for prediction\n",
    "def predict(alpha,beta,X):\n",
    "    return alpha*X + beta\n",
    "\n",
    "#Utility function for printing predictions\n",
    "def print_predictions(prog,prog_pred):\n",
    "    df_pred = pd.DataFrame({'Progression_measured':prog,'Progression_predicted':prog_pred,'Error':prog-prog_pred})\n",
    "    return df_pred\n",
    "\n",
    "#Utility function for plotting\n",
    "def plot_predictions(prog,prog_pred):\n",
    "    plt.scatter(prog,prog_pred)\n",
    "    plt.title('Progression predicted vs measured') #Set title\n",
    "    plt.ylabel('Progression predicted') #Set y axis label\n",
    "    plt.xlabel('Progression measured') #Set x axis label\n",
    "    plt.plot((0, np.max(prog)), (0,np.max(prog)), c = 'red',label='Perfect fit line') #Plot perfect fit line\n",
    "    plt.legend() #Legends"
   ]
  },
  {
   "cell_type": "code",
   "execution_count": 10,
   "id": "E5i0JSpuL-og",
   "metadata": {
    "colab": {
     "base_uri": "https://localhost:8080/",
     "height": 206
    },
    "id": "E5i0JSpuL-og",
    "outputId": "792ae033-6bf4-44ab-db53-5b85999c9ce7"
   },
   "outputs": [
    {
     "data": {
      "text/html": [
       "\n",
       "  <div id=\"df-e845006f-d6d5-4bba-b05f-4d18c4ce11a5\" class=\"colab-df-container\">\n",
       "    <div>\n",
       "<style scoped>\n",
       "    .dataframe tbody tr th:only-of-type {\n",
       "        vertical-align: middle;\n",
       "    }\n",
       "\n",
       "    .dataframe tbody tr th {\n",
       "        vertical-align: top;\n",
       "    }\n",
       "\n",
       "    .dataframe thead th {\n",
       "        text-align: right;\n",
       "    }\n",
       "</style>\n",
       "<table border=\"1\" class=\"dataframe\">\n",
       "  <thead>\n",
       "    <tr style=\"text-align: right;\">\n",
       "      <th></th>\n",
       "      <th>Progression_measured</th>\n",
       "      <th>Progression_predicted</th>\n",
       "      <th>Error</th>\n",
       "    </tr>\n",
       "  </thead>\n",
       "  <tbody>\n",
       "    <tr>\n",
       "      <th>0</th>\n",
       "      <td>151.0</td>\n",
       "      <td>179.872930</td>\n",
       "      <td>-28.872930</td>\n",
       "    </tr>\n",
       "    <tr>\n",
       "      <th>1</th>\n",
       "      <td>75.0</td>\n",
       "      <td>104.573684</td>\n",
       "      <td>-29.573684</td>\n",
       "    </tr>\n",
       "    <tr>\n",
       "      <th>2</th>\n",
       "      <td>141.0</td>\n",
       "      <td>172.813626</td>\n",
       "      <td>-31.813626</td>\n",
       "    </tr>\n",
       "    <tr>\n",
       "      <th>3</th>\n",
       "      <td>206.0</td>\n",
       "      <td>175.166727</td>\n",
       "      <td>30.833273</td>\n",
       "    </tr>\n",
       "    <tr>\n",
       "      <th>4</th>\n",
       "      <td>135.0</td>\n",
       "      <td>146.929510</td>\n",
       "      <td>-11.929510</td>\n",
       "    </tr>\n",
       "  </tbody>\n",
       "</table>\n",
       "</div>\n",
       "    <div class=\"colab-df-buttons\">\n",
       "\n",
       "  <div class=\"colab-df-container\">\n",
       "    <button class=\"colab-df-convert\" onclick=\"convertToInteractive('df-e845006f-d6d5-4bba-b05f-4d18c4ce11a5')\"\n",
       "            title=\"Convert this dataframe to an interactive table.\"\n",
       "            style=\"display:none;\">\n",
       "\n",
       "  <svg xmlns=\"http://www.w3.org/2000/svg\" height=\"24px\" viewBox=\"0 -960 960 960\">\n",
       "    <path d=\"M120-120v-720h720v720H120Zm60-500h600v-160H180v160Zm220 220h160v-160H400v160Zm0 220h160v-160H400v160ZM180-400h160v-160H180v160Zm440 0h160v-160H620v160ZM180-180h160v-160H180v160Zm440 0h160v-160H620v160Z\"/>\n",
       "  </svg>\n",
       "    </button>\n",
       "\n",
       "  <style>\n",
       "    .colab-df-container {\n",
       "      display:flex;\n",
       "      gap: 12px;\n",
       "    }\n",
       "\n",
       "    .colab-df-convert {\n",
       "      background-color: #E8F0FE;\n",
       "      border: none;\n",
       "      border-radius: 50%;\n",
       "      cursor: pointer;\n",
       "      display: none;\n",
       "      fill: #1967D2;\n",
       "      height: 32px;\n",
       "      padding: 0 0 0 0;\n",
       "      width: 32px;\n",
       "    }\n",
       "\n",
       "    .colab-df-convert:hover {\n",
       "      background-color: #E2EBFA;\n",
       "      box-shadow: 0px 1px 2px rgba(60, 64, 67, 0.3), 0px 1px 3px 1px rgba(60, 64, 67, 0.15);\n",
       "      fill: #174EA6;\n",
       "    }\n",
       "\n",
       "    .colab-df-buttons div {\n",
       "      margin-bottom: 4px;\n",
       "    }\n",
       "\n",
       "    [theme=dark] .colab-df-convert {\n",
       "      background-color: #3B4455;\n",
       "      fill: #D2E3FC;\n",
       "    }\n",
       "\n",
       "    [theme=dark] .colab-df-convert:hover {\n",
       "      background-color: #434B5C;\n",
       "      box-shadow: 0px 1px 3px 1px rgba(0, 0, 0, 0.15);\n",
       "      filter: drop-shadow(0px 1px 2px rgba(0, 0, 0, 0.3));\n",
       "      fill: #FFFFFF;\n",
       "    }\n",
       "  </style>\n",
       "\n",
       "    <script>\n",
       "      const buttonEl =\n",
       "        document.querySelector('#df-e845006f-d6d5-4bba-b05f-4d18c4ce11a5 button.colab-df-convert');\n",
       "      buttonEl.style.display =\n",
       "        google.colab.kernel.accessAllowed ? 'block' : 'none';\n",
       "\n",
       "      async function convertToInteractive(key) {\n",
       "        const element = document.querySelector('#df-e845006f-d6d5-4bba-b05f-4d18c4ce11a5');\n",
       "        const dataTable =\n",
       "          await google.colab.kernel.invokeFunction('convertToInteractive',\n",
       "                                                    [key], {});\n",
       "        if (!dataTable) return;\n",
       "\n",
       "        const docLinkHtml = 'Like what you see? Visit the ' +\n",
       "          '<a target=\"_blank\" href=https://colab.research.google.com/notebooks/data_table.ipynb>data table notebook</a>'\n",
       "          + ' to learn more about interactive tables.';\n",
       "        element.innerHTML = '';\n",
       "        dataTable['output_type'] = 'display_data';\n",
       "        await google.colab.output.renderOutput(dataTable, element);\n",
       "        const docLink = document.createElement('div');\n",
       "        docLink.innerHTML = docLinkHtml;\n",
       "        element.appendChild(docLink);\n",
       "      }\n",
       "    </script>\n",
       "  </div>\n",
       "\n",
       "\n",
       "<div id=\"df-52fe11e6-f06d-444b-a762-8f54b7bb432e\">\n",
       "  <button class=\"colab-df-quickchart\" onclick=\"quickchart('df-52fe11e6-f06d-444b-a762-8f54b7bb432e')\"\n",
       "            title=\"Suggest charts\"\n",
       "            style=\"display:none;\">\n",
       "\n",
       "<svg xmlns=\"http://www.w3.org/2000/svg\" height=\"24px\"viewBox=\"0 0 24 24\"\n",
       "     width=\"24px\">\n",
       "    <g>\n",
       "        <path d=\"M19 3H5c-1.1 0-2 .9-2 2v14c0 1.1.9 2 2 2h14c1.1 0 2-.9 2-2V5c0-1.1-.9-2-2-2zM9 17H7v-7h2v7zm4 0h-2V7h2v10zm4 0h-2v-4h2v4z\"/>\n",
       "    </g>\n",
       "</svg>\n",
       "  </button>\n",
       "\n",
       "<style>\n",
       "  .colab-df-quickchart {\n",
       "      --bg-color: #E8F0FE;\n",
       "      --fill-color: #1967D2;\n",
       "      --hover-bg-color: #E2EBFA;\n",
       "      --hover-fill-color: #174EA6;\n",
       "      --disabled-fill-color: #AAA;\n",
       "      --disabled-bg-color: #DDD;\n",
       "  }\n",
       "\n",
       "  [theme=dark] .colab-df-quickchart {\n",
       "      --bg-color: #3B4455;\n",
       "      --fill-color: #D2E3FC;\n",
       "      --hover-bg-color: #434B5C;\n",
       "      --hover-fill-color: #FFFFFF;\n",
       "      --disabled-bg-color: #3B4455;\n",
       "      --disabled-fill-color: #666;\n",
       "  }\n",
       "\n",
       "  .colab-df-quickchart {\n",
       "    background-color: var(--bg-color);\n",
       "    border: none;\n",
       "    border-radius: 50%;\n",
       "    cursor: pointer;\n",
       "    display: none;\n",
       "    fill: var(--fill-color);\n",
       "    height: 32px;\n",
       "    padding: 0;\n",
       "    width: 32px;\n",
       "  }\n",
       "\n",
       "  .colab-df-quickchart:hover {\n",
       "    background-color: var(--hover-bg-color);\n",
       "    box-shadow: 0 1px 2px rgba(60, 64, 67, 0.3), 0 1px 3px 1px rgba(60, 64, 67, 0.15);\n",
       "    fill: var(--button-hover-fill-color);\n",
       "  }\n",
       "\n",
       "  .colab-df-quickchart-complete:disabled,\n",
       "  .colab-df-quickchart-complete:disabled:hover {\n",
       "    background-color: var(--disabled-bg-color);\n",
       "    fill: var(--disabled-fill-color);\n",
       "    box-shadow: none;\n",
       "  }\n",
       "\n",
       "  .colab-df-spinner {\n",
       "    border: 2px solid var(--fill-color);\n",
       "    border-color: transparent;\n",
       "    border-bottom-color: var(--fill-color);\n",
       "    animation:\n",
       "      spin 1s steps(1) infinite;\n",
       "  }\n",
       "\n",
       "  @keyframes spin {\n",
       "    0% {\n",
       "      border-color: transparent;\n",
       "      border-bottom-color: var(--fill-color);\n",
       "      border-left-color: var(--fill-color);\n",
       "    }\n",
       "    20% {\n",
       "      border-color: transparent;\n",
       "      border-left-color: var(--fill-color);\n",
       "      border-top-color: var(--fill-color);\n",
       "    }\n",
       "    30% {\n",
       "      border-color: transparent;\n",
       "      border-left-color: var(--fill-color);\n",
       "      border-top-color: var(--fill-color);\n",
       "      border-right-color: var(--fill-color);\n",
       "    }\n",
       "    40% {\n",
       "      border-color: transparent;\n",
       "      border-right-color: var(--fill-color);\n",
       "      border-top-color: var(--fill-color);\n",
       "    }\n",
       "    60% {\n",
       "      border-color: transparent;\n",
       "      border-right-color: var(--fill-color);\n",
       "    }\n",
       "    80% {\n",
       "      border-color: transparent;\n",
       "      border-right-color: var(--fill-color);\n",
       "      border-bottom-color: var(--fill-color);\n",
       "    }\n",
       "    90% {\n",
       "      border-color: transparent;\n",
       "      border-bottom-color: var(--fill-color);\n",
       "    }\n",
       "  }\n",
       "</style>\n",
       "\n",
       "  <script>\n",
       "    async function quickchart(key) {\n",
       "      const quickchartButtonEl =\n",
       "        document.querySelector('#' + key + ' button');\n",
       "      quickchartButtonEl.disabled = true;  // To prevent multiple clicks.\n",
       "      quickchartButtonEl.classList.add('colab-df-spinner');\n",
       "      try {\n",
       "        const charts = await google.colab.kernel.invokeFunction(\n",
       "            'suggestCharts', [key], {});\n",
       "      } catch (error) {\n",
       "        console.error('Error during call to suggestCharts:', error);\n",
       "      }\n",
       "      quickchartButtonEl.classList.remove('colab-df-spinner');\n",
       "      quickchartButtonEl.classList.add('colab-df-quickchart-complete');\n",
       "    }\n",
       "    (() => {\n",
       "      let quickchartButtonEl =\n",
       "        document.querySelector('#df-52fe11e6-f06d-444b-a762-8f54b7bb432e button');\n",
       "      quickchartButtonEl.style.display =\n",
       "        google.colab.kernel.accessAllowed ? 'block' : 'none';\n",
       "    })();\n",
       "  </script>\n",
       "</div>\n",
       "\n",
       "    </div>\n",
       "  </div>\n"
      ],
      "text/plain": [
       "   Progression_measured  Progression_predicted      Error\n",
       "0                 151.0             179.872930 -28.872930\n",
       "1                  75.0             104.573684 -29.573684\n",
       "2                 141.0             172.813626 -31.813626\n",
       "3                 206.0             175.166727  30.833273\n",
       "4                 135.0             146.929510 -11.929510"
      ]
     },
     "execution_count": 10,
     "metadata": {},
     "output_type": "execute_result"
    }
   ],
   "source": [
    "y_pred_ols = [predict(alpha,beta,X_i) for X_i in X] #Predicted progression based on alpha and beta\n",
    "df_ols = print_predictions(y,y_pred_ols)\n",
    "df_ols.head()"
   ]
  },
  {
   "cell_type": "code",
   "execution_count": 11,
   "id": "RWqlkb9DL-og",
   "metadata": {
    "colab": {
     "base_uri": "https://localhost:8080/",
     "height": 472
    },
    "id": "RWqlkb9DL-og",
    "outputId": "9b36e5aa-de0e-4b83-ca4c-ea0f7f1839f3"
   },
   "outputs": [
    {
     "data": {
      "image/png": "[encoded data removed]",
      "text/plain": [
       "<Figure size 640x480 with 1 Axes>"
      ]
     },
     "metadata": {},
     "output_type": "display_data"
    }
   ],
   "source": [
    "plot_predictions(y,y_pred_ols)"
   ]
  },
  {
   "cell_type": "markdown",
   "id": "laBxc1dkL-og",
   "metadata": {
    "id": "laBxc1dkL-og"
   },
   "source": [
    "# Metrics for comparison:"
   ]
  },
  {
   "cell_type": "markdown",
   "id": "cPjxVZ1aL-og",
   "metadata": {
    "id": "cPjxVZ1aL-og"
   },
   "source": [
    "# Coefficient of determination: $$R^2 = 1 - \\frac{RSS}{TSS}$$"
   ]
  },
  {
   "cell_type": "markdown",
   "id": "JkWlWmY5L-og",
   "metadata": {
    "id": "JkWlWmY5L-og"
   },
   "source": [
    "# Mean Average Error: $$MAE = \\frac{1}{N}\\sum_{i=1}^{N}(y_i - \\hat{y_i})$$"
   ]
  },
  {
   "cell_type": "markdown",
   "id": "x5hk8q7YL-og",
   "metadata": {
    "id": "x5hk8q7YL-og"
   },
   "source": [
    "# Mean Squared Error: $$MSE = \\frac{1}{N}\\sum_{i=1}^{N}(y_i - \\hat{y_i})^2$$"
   ]
  },
  {
   "cell_type": "markdown",
   "id": "56l5mcA2L-og",
   "metadata": {
    "id": "56l5mcA2L-og"
   },
   "source": [
    "# Root Mean Squared Error: $$RMSE = \\sqrt{\\frac{1}{N}\\sum_{i=1}^{N}(y_i - \\hat{y_i})^2}$$"
   ]
  },
  {
   "cell_type": "code",
   "execution_count": 12,
   "id": "aaEMOtjIL-oh",
   "metadata": {
    "id": "aaEMOtjIL-oh"
   },
   "outputs": [],
   "source": [
    "#Utility function to calculate metrics\n",
    "def print_metrics(y,y_pred):\n",
    "    rss = np.sum((y-y_pred)**2) # Sum of Squares of Residuals\n",
    "    tss = np.sum((y-y.mean())**2) # Total Sum of Squares\n",
    "    r2 = 1 - (rss/tss) #Coefficient of Determination\n",
    "    mae = np.sum((y-y_pred))/len(y) #Mean Average Error\n",
    "    mse = np.sum((y-y_pred)**2)/len(y) # Mean Squared Error\n",
    "    rmse = math.sqrt(mse) # Root Mean Squared Error\n",
    "    print('The Coefficient of Determination is %s' % r2)\n",
    "    print('The Mean Average Error is %s' % mae)\n",
    "    print('The  Mean Squared Error is %s' % mse)\n",
    "    print('The Root Mean Squared Error is %s' % rmse)\n",
    "    return r2,mae,mse,rmse"
   ]
  },
  {
   "cell_type": "code",
   "execution_count": 13,
   "id": "Frs2mzOsL-oh",
   "metadata": {
    "colab": {
     "base_uri": "https://localhost:8080/"
    },
    "id": "Frs2mzOsL-oh",
    "outputId": "afee0ae4-9d47-4251-e900-9ac1df9bbc79"
   },
   "outputs": [
    {
     "name": "stdout",
     "output_type": "stream",
     "text": [
      "The Coefficient of Determination is 0.15585855244530533\n",
      "The Mean Average Error is -1.5947022485837543e-14\n",
      "The  Mean Squared Error is 5005.661620710652\n",
      "The Root Mean Squared Error is 70.75070049625411\n"
     ]
    }
   ],
   "source": [
    "r2_ols,mae_ols,mse_ols,rmse_ols = print_metrics(y,y_pred_ols)"
   ]
  },
  {
   "cell_type": "markdown",
   "id": "RS2Pj6fGL-oh",
   "metadata": {
    "id": "RS2Pj6fGL-oh"
   },
   "source": [
    "# Multiple Regression"
   ]
  },
  {
   "cell_type": "markdown",
   "id": "7-JpnvEpL-oh",
   "metadata": {
    "id": "7-JpnvEpL-oh"
   },
   "source": [
    "$$Y = \\beta_0X_0+ \\beta_1X_1+ \\beta_2X_2+ \\beta_2X_3...$$\n",
    "$$Y = X\\beta$$"
   ]
  },
  {
   "cell_type": "markdown",
   "id": "2skEG4XNL-oh",
   "metadata": {
    "id": "2skEG4XNL-oh"
   },
   "source": [
    "$$\\beta = (X^{'}X)^{-1}X^{'}Y$$"
   ]
  },
  {
   "cell_type": "code",
   "execution_count": 14,
   "id": "KKPznBtoL-oh",
   "metadata": {
    "id": "KKPznBtoL-oh"
   },
   "outputs": [],
   "source": [
    "X = diabetes_X.to_numpy()\n",
    "y = diabetes_y.to_numpy()\n",
    "X = np.concatenate([np.ones((X.shape[0],1)),X],axis=1)\n",
    "beta = np.linalg.inv(X.T@X)@X.T@y #Multiple Regression Coefficients"
   ]
  },
  {
   "cell_type": "code",
   "execution_count": 15,
   "id": "pZiuK_xlL-oh",
   "metadata": {
    "colab": {
     "base_uri": "https://localhost:8080/",
     "height": 206
    },
    "id": "pZiuK_xlL-oh",
    "outputId": "36cffec3-ddaa-4127-c65e-04b798f0e4b7"
   },
   "outputs": [
    {
     "data": {
      "text/html": [
       "\n",
       "  <div id=\"df-ed3fb8cf-06b8-4975-a1ef-c82916fb11d5\" class=\"colab-df-container\">\n",
       "    <div>\n",
       "<style scoped>\n",
       "    .dataframe tbody tr th:only-of-type {\n",
       "        vertical-align: middle;\n",
       "    }\n",
       "\n",
       "    .dataframe tbody tr th {\n",
       "        vertical-align: top;\n",
       "    }\n",
       "\n",
       "    .dataframe thead th {\n",
       "        text-align: right;\n",
       "    }\n",
       "</style>\n",
       "<table border=\"1\" class=\"dataframe\">\n",
       "  <thead>\n",
       "    <tr style=\"text-align: right;\">\n",
       "      <th></th>\n",
       "      <th>Progression_measured</th>\n",
       "      <th>Progression_predicted</th>\n",
       "      <th>Error</th>\n",
       "    </tr>\n",
       "  </thead>\n",
       "  <tbody>\n",
       "    <tr>\n",
       "      <th>0</th>\n",
       "      <td>151.0</td>\n",
       "      <td>206.116677</td>\n",
       "      <td>-55.116677</td>\n",
       "    </tr>\n",
       "    <tr>\n",
       "      <th>1</th>\n",
       "      <td>75.0</td>\n",
       "      <td>68.071033</td>\n",
       "      <td>6.928967</td>\n",
       "    </tr>\n",
       "    <tr>\n",
       "      <th>2</th>\n",
       "      <td>141.0</td>\n",
       "      <td>176.882790</td>\n",
       "      <td>-35.882790</td>\n",
       "    </tr>\n",
       "    <tr>\n",
       "      <th>3</th>\n",
       "      <td>206.0</td>\n",
       "      <td>166.914458</td>\n",
       "      <td>39.085542</td>\n",
       "    </tr>\n",
       "    <tr>\n",
       "      <th>4</th>\n",
       "      <td>135.0</td>\n",
       "      <td>128.462258</td>\n",
       "      <td>6.537742</td>\n",
       "    </tr>\n",
       "  </tbody>\n",
       "</table>\n",
       "</div>\n",
       "    <div class=\"colab-df-buttons\">\n",
       "\n",
       "  <div class=\"colab-df-container\">\n",
       "    <button class=\"colab-df-convert\" onclick=\"convertToInteractive('df-ed3fb8cf-06b8-4975-a1ef-c82916fb11d5')\"\n",
       "            title=\"Convert this dataframe to an interactive table.\"\n",
       "            style=\"display:none;\">\n",
       "\n",
       "  <svg xmlns=\"http://www.w3.org/2000/svg\" height=\"24px\" viewBox=\"0 -960 960 960\">\n",
       "    <path d=\"M120-120v-720h720v720H120Zm60-500h600v-160H180v160Zm220 220h160v-160H400v160Zm0 220h160v-160H400v160ZM180-400h160v-160H180v160Zm440 0h160v-160H620v160ZM180-180h160v-160H180v160Zm440 0h160v-160H620v160Z\"/>\n",
       "  </svg>\n",
       "    </button>\n",
       "\n",
       "  <style>\n",
       "    .colab-df-container {\n",
       "      display:flex;\n",
       "      gap: 12px;\n",
       "    }\n",
       "\n",
       "    .colab-df-convert {\n",
       "      background-color: #E8F0FE;\n",
       "      border: none;\n",
       "      border-radius: 50%;\n",
       "      cursor: pointer;\n",
       "      display: none;\n",
       "      fill: #1967D2;\n",
       "      height: 32px;\n",
       "      padding: 0 0 0 0;\n",
       "      width: 32px;\n",
       "    }\n",
       "\n",
       "    .colab-df-convert:hover {\n",
       "      background-color: #E2EBFA;\n",
       "      box-shadow: 0px 1px 2px rgba(60, 64, 67, 0.3), 0px 1px 3px 1px rgba(60, 64, 67, 0.15);\n",
       "      fill: #174EA6;\n",
       "    }\n",
       "\n",
       "    .colab-df-buttons div {\n",
       "      margin-bottom: 4px;\n",
       "    }\n",
       "\n",
       "    [theme=dark] .colab-df-convert {\n",
       "      background-color: #3B4455;\n",
       "      fill: #D2E3FC;\n",
       "    }\n",
       "\n",
       "    [theme=dark] .colab-df-convert:hover {\n",
       "      background-color: #434B5C;\n",
       "      box-shadow: 0px 1px 3px 1px rgba(0, 0, 0, 0.15);\n",
       "      filter: drop-shadow(0px 1px 2px rgba(0, 0, 0, 0.3));\n",
       "      fill: #FFFFFF;\n",
       "    }\n",
       "  </style>\n",
       "\n",
       "    <script>\n",
       "      const buttonEl =\n",
       "        document.querySelector('#df-ed3fb8cf-06b8-4975-a1ef-c82916fb11d5 button.colab-df-convert');\n",
       "      buttonEl.style.display =\n",
       "        google.colab.kernel.accessAllowed ? 'block' : 'none';\n",
       "\n",
       "      async function convertToInteractive(key) {\n",
       "        const element = document.querySelector('#df-ed3fb8cf-06b8-4975-a1ef-c82916fb11d5');\n",
       "        const dataTable =\n",
       "          await google.colab.kernel.invokeFunction('convertToInteractive',\n",
       "                                                    [key], {});\n",
       "        if (!dataTable) return;\n",
       "\n",
       "        const docLinkHtml = 'Like what you see? Visit the ' +\n",
       "          '<a target=\"_blank\" href=https://colab.research.google.com/notebooks/data_table.ipynb>data table notebook</a>'\n",
       "          + ' to learn more about interactive tables.';\n",
       "        element.innerHTML = '';\n",
       "        dataTable['output_type'] = 'display_data';\n",
       "        await google.colab.output.renderOutput(dataTable, element);\n",
       "        const docLink = document.createElement('div');\n",
       "        docLink.innerHTML = docLinkHtml;\n",
       "        element.appendChild(docLink);\n",
       "      }\n",
       "    </script>\n",
       "  </div>\n",
       "\n",
       "\n",
       "<div id=\"df-ce6b0afc-5d57-4589-a5aa-63cf0fda7598\">\n",
       "  <button class=\"colab-df-quickchart\" onclick=\"quickchart('df-ce6b0afc-5d57-4589-a5aa-63cf0fda7598')\"\n",
       "            title=\"Suggest charts\"\n",
       "            style=\"display:none;\">\n",
       "\n",
       "<svg xmlns=\"http://www.w3.org/2000/svg\" height=\"24px\"viewBox=\"0 0 24 24\"\n",
       "     width=\"24px\">\n",
       "    <g>\n",
       "        <path d=\"M19 3H5c-1.1 0-2 .9-2 2v14c0 1.1.9 2 2 2h14c1.1 0 2-.9 2-2V5c0-1.1-.9-2-2-2zM9 17H7v-7h2v7zm4 0h-2V7h2v10zm4 0h-2v-4h2v4z\"/>\n",
       "    </g>\n",
       "</svg>\n",
       "  </button>\n",
       "\n",
       "<style>\n",
       "  .colab-df-quickchart {\n",
       "      --bg-color: #E8F0FE;\n",
       "      --fill-color: #1967D2;\n",
       "      --hover-bg-color: #E2EBFA;\n",
       "      --hover-fill-color: #174EA6;\n",
       "      --disabled-fill-color: #AAA;\n",
       "      --disabled-bg-color: #DDD;\n",
       "  }\n",
       "\n",
       "  [theme=dark] .colab-df-quickchart {\n",
       "      --bg-color: #3B4455;\n",
       "      --fill-color: #D2E3FC;\n",
       "      --hover-bg-color: #434B5C;\n",
       "      --hover-fill-color: #FFFFFF;\n",
       "      --disabled-bg-color: #3B4455;\n",
       "      --disabled-fill-color: #666;\n",
       "  }\n",
       "\n",
       "  .colab-df-quickchart {\n",
       "    background-color: var(--bg-color);\n",
       "    border: none;\n",
       "    border-radius: 50%;\n",
       "    cursor: pointer;\n",
       "    display: none;\n",
       "    fill: var(--fill-color);\n",
       "    height: 32px;\n",
       "    padding: 0;\n",
       "    width: 32px;\n",
       "  }\n",
       "\n",
       "  .colab-df-quickchart:hover {\n",
       "    background-color: var(--hover-bg-color);\n",
       "    box-shadow: 0 1px 2px rgba(60, 64, 67, 0.3), 0 1px 3px 1px rgba(60, 64, 67, 0.15);\n",
       "    fill: var(--button-hover-fill-color);\n",
       "  }\n",
       "\n",
       "  .colab-df-quickchart-complete:disabled,\n",
       "  .colab-df-quickchart-complete:disabled:hover {\n",
       "    background-color: var(--disabled-bg-color);\n",
       "    fill: var(--disabled-fill-color);\n",
       "    box-shadow: none;\n",
       "  }\n",
       "\n",
       "  .colab-df-spinner {\n",
       "    border: 2px solid var(--fill-color);\n",
       "    border-color: transparent;\n",
       "    border-bottom-color: var(--fill-color);\n",
       "    animation:\n",
       "      spin 1s steps(1) infinite;\n",
       "  }\n",
       "\n",
       "  @keyframes spin {\n",
       "    0% {\n",
       "      border-color: transparent;\n",
       "      border-bottom-color: var(--fill-color);\n",
       "      border-left-color: var(--fill-color);\n",
       "    }\n",
       "    20% {\n",
       "      border-color: transparent;\n",
       "      border-left-color: var(--fill-color);\n",
       "      border-top-color: var(--fill-color);\n",
       "    }\n",
       "    30% {\n",
       "      border-color: transparent;\n",
       "      border-left-color: var(--fill-color);\n",
       "      border-top-color: var(--fill-color);\n",
       "      border-right-color: var(--fill-color);\n",
       "    }\n",
       "    40% {\n",
       "      border-color: transparent;\n",
       "      border-right-color: var(--fill-color);\n",
       "      border-top-color: var(--fill-color);\n",
       "    }\n",
       "    60% {\n",
       "      border-color: transparent;\n",
       "      border-right-color: var(--fill-color);\n",
       "    }\n",
       "    80% {\n",
       "      border-color: transparent;\n",
       "      border-right-color: var(--fill-color);\n",
       "      border-bottom-color: var(--fill-color);\n",
       "    }\n",
       "    90% {\n",
       "      border-color: transparent;\n",
       "      border-bottom-color: var(--fill-color);\n",
       "    }\n",
       "  }\n",
       "</style>\n",
       "\n",
       "  <script>\n",
       "    async function quickchart(key) {\n",
       "      const quickchartButtonEl =\n",
       "        document.querySelector('#' + key + ' button');\n",
       "      quickchartButtonEl.disabled = true;  // To prevent multiple clicks.\n",
       "      quickchartButtonEl.classList.add('colab-df-spinner');\n",
       "      try {\n",
       "        const charts = await google.colab.kernel.invokeFunction(\n",
       "            'suggestCharts', [key], {});\n",
       "      } catch (error) {\n",
       "        console.error('Error during call to suggestCharts:', error);\n",
       "      }\n",
       "      quickchartButtonEl.classList.remove('colab-df-spinner');\n",
       "      quickchartButtonEl.classList.add('colab-df-quickchart-complete');\n",
       "    }\n",
       "    (() => {\n",
       "      let quickchartButtonEl =\n",
       "        document.querySelector('#df-ce6b0afc-5d57-4589-a5aa-63cf0fda7598 button');\n",
       "      quickchartButtonEl.style.display =\n",
       "        google.colab.kernel.accessAllowed ? 'block' : 'none';\n",
       "    })();\n",
       "  </script>\n",
       "</div>\n",
       "\n",
       "    </div>\n",
       "  </div>\n"
      ],
      "text/plain": [
       "   Progression_measured  Progression_predicted      Error\n",
       "0                 151.0             206.116677 -55.116677\n",
       "1                  75.0              68.071033   6.928967\n",
       "2                 141.0             176.882790 -35.882790\n",
       "3                 206.0             166.914458  39.085542\n",
       "4                 135.0             128.462258   6.537742"
      ]
     },
     "execution_count": 15,
     "metadata": {},
     "output_type": "execute_result"
    }
   ],
   "source": [
    "y_pred_ols = X@beta #Predicted progression based on alpha and beta\n",
    "df_ols = print_predictions(y,y_pred_ols)\n",
    "df_ols.head()"
   ]
  },
  {
   "cell_type": "code",
   "execution_count": 16,
   "id": "pRVRhaKqL-oh",
   "metadata": {
    "colab": {
     "base_uri": "https://localhost:8080/",
     "height": 472
    },
    "id": "pRVRhaKqL-oh",
    "outputId": "41b475db-1d49-4e6c-b9b2-002a237e0074"
   },
   "outputs": [
    {
     "data": {
      "image/png": "[encoded data removed]",
      "text/plain": [
       "<Figure size 640x480 with 1 Axes>"
      ]
     },
     "metadata": {},
     "output_type": "display_data"
    }
   ],
   "source": [
    "plot_predictions(y,y_pred_ols)"
   ]
  },
  {
   "cell_type": "code",
   "execution_count": 17,
   "id": "wH3uw5dVL-oh",
   "metadata": {
    "colab": {
     "base_uri": "https://localhost:8080/"
    },
    "id": "wH3uw5dVL-oh",
    "outputId": "89cc78dd-4422-481a-fdc2-3d0e130ad7c3"
   },
   "outputs": [
    {
     "name": "stdout",
     "output_type": "stream",
     "text": [
      "The Coefficient of Determination is 0.5177484222203498\n",
      "The Mean Average Error is 5.24708481792074e-14\n",
      "The  Mean Squared Error is 2859.6963475867506\n",
      "The Root Mean Squared Error is 53.476128764026576\n"
     ]
    }
   ],
   "source": [
    "r2_ols,mae_ols,mse_ols,rmse_ols = print_metrics(y,y_pred_ols)"
   ]
  },
  {
   "cell_type": "markdown",
   "id": "ERaw6DLwL-oi",
   "metadata": {
    "id": "ERaw6DLwL-oi"
   },
   "source": [
    "# Linear Regression with scikit-learn:"
   ]
  },
  {
   "cell_type": "code",
   "execution_count": 18,
   "id": "lKr1A7j2L-oi",
   "metadata": {
    "id": "lKr1A7j2L-oi"
   },
   "outputs": [],
   "source": [
    "#Define Features and Labels\n",
    "X = diabetes_X.to_numpy()\n",
    "y = diabetes_y.to_numpy()\n",
    "model =LinearRegression(fit_intercept=True)"
   ]
  },
  {
   "cell_type": "code",
   "execution_count": 19,
   "id": "t-eh0l6nL-oi",
   "metadata": {
    "colab": {
     "base_uri": "https://localhost:8080/",
     "height": 74
    },
    "id": "t-eh0l6nL-oi",
    "outputId": "351c42fc-703b-456c-a3a1-c4a17069decb"
   },
   "outputs": [
    {
     "data": {
      "text/html": [
       "<style>#sk-container-id-1 {color: black;background-color: white;}#sk-container-id-1 pre{padding: 0;}#sk-container-id-1 div.sk-toggleable {background-color: white;}#sk-container-id-1 label.sk-toggleable__label {cursor: pointer;display: block;width: 100%;margin-bottom: 0;padding: 0.3em;box-sizing: border-box;text-align: center;}#sk-container-id-1 label.sk-toggleable__label-arrow:before {content: \"▸\";float: left;margin-right: 0.25em;color: #696969;}#sk-container-id-1 label.sk-toggleable__label-arrow:hover:before {color: black;}#sk-container-id-1 div.sk-estimator:hover label.sk-toggleable__label-arrow:before {color: black;}#sk-container-id-1 div.sk-toggleable__content {max-height: 0;max-width: 0;overflow: hidden;text-align: left;background-color: #f0f8ff;}#sk-container-id-1 div.sk-toggleable__content pre {margin: 0.2em;color: black;border-radius: 0.25em;background-color: #f0f8ff;}#sk-container-id-1 input.sk-toggleable__control:checked~div.sk-toggleable__content {max-height: 200px;max-width: 100%;overflow: auto;}#sk-container-id-1 input.sk-toggleable__control:checked~label.sk-toggleable__label-arrow:before {content: \"▾\";}#sk-container-id-1 div.sk-estimator input.sk-toggleable__control:checked~label.sk-toggleable__label {background-color: #d4ebff;}#sk-container-id-1 div.sk-label input.sk-toggleable__control:checked~label.sk-toggleable__label {background-color: #d4ebff;}#sk-container-id-1 input.sk-hidden--visually {border: 0;clip: rect(1px 1px 1px 1px);clip: rect(1px, 1px, 1px, 1px);height: 1px;margin: -1px;overflow: hidden;padding: 0;position: absolute;width: 1px;}#sk-container-id-1 div.sk-estimator {font-family: monospace;background-color: #f0f8ff;border: 1px dotted black;border-radius: 0.25em;box-sizing: border-box;margin-bottom: 0.5em;}#sk-container-id-1 div.sk-estimator:hover {background-color: #d4ebff;}#sk-container-id-1 div.sk-parallel-item::after {content: \"\";width: 100%;border-bottom: 1px solid gray;flex-grow: 1;}#sk-container-id-1 div.sk-label:hover label.sk-toggleable__label {background-color: #d4ebff;}#sk-container-id-1 div.sk-serial::before {content: \"\";position: absolute;border-left: 1px solid gray;box-sizing: border-box;top: 0;bottom: 0;left: 50%;z-index: 0;}#sk-container-id-1 div.sk-serial {display: flex;flex-direction: column;align-items: center;background-color: white;padding-right: 0.2em;padding-left: 0.2em;position: relative;}#sk-container-id-1 div.sk-item {position: relative;z-index: 1;}#sk-container-id-1 div.sk-parallel {display: flex;align-items: stretch;justify-content: center;background-color: white;position: relative;}#sk-container-id-1 div.sk-item::before, #sk-container-id-1 div.sk-parallel-item::before {content: \"\";position: absolute;border-left: 1px solid gray;box-sizing: border-box;top: 0;bottom: 0;left: 50%;z-index: -1;}#sk-container-id-1 div.sk-parallel-item {display: flex;flex-direction: column;z-index: 1;position: relative;background-color: white;}#sk-container-id-1 div.sk-parallel-item:first-child::after {align-self: flex-end;width: 50%;}#sk-container-id-1 div.sk-parallel-item:last-child::after {align-self: flex-start;width: 50%;}#sk-container-id-1 div.sk-parallel-item:only-child::after {width: 0;}#sk-container-id-1 div.sk-dashed-wrapped {border: 1px dashed gray;margin: 0 0.4em 0.5em 0.4em;box-sizing: border-box;padding-bottom: 0.4em;background-color: white;}#sk-container-id-1 div.sk-label label {font-family: monospace;font-weight: bold;display: inline-block;line-height: 1.2em;}#sk-container-id-1 div.sk-label-container {text-align: center;}#sk-container-id-1 div.sk-container {/* jupyter's `normalize.less` sets `[hidden] { display: none; }` but bootstrap.min.css set `[hidden] { display: none !important; }` so we also need the `!important` here to be able to override the default hidden behavior on the sphinx rendered scikit-learn.org. See: https://github.com/scikit-learn/scikit-learn/issues/21755 */display: inline-block !important;position: relative;}#sk-container-id-1 div.sk-text-repr-fallback {display: none;}</style><div id=\"sk-container-id-1\" class=\"sk-top-container\"><div class=\"sk-text-repr-fallback\"><pre>LinearRegression()</pre><b>In a Jupyter environment, please rerun this cell to show the HTML representation or trust the notebook. <br />On GitHub, the HTML representation is unable to render, please try loading this page with nbviewer.org.</b></div><div class=\"sk-container\" hidden><div class=\"sk-item\"><div class=\"sk-estimator sk-toggleable\"><input class=\"sk-toggleable__control sk-hidden--visually\" id=\"sk-estimator-id-1\" type=\"checkbox\" checked><label for=\"sk-estimator-id-1\" class=\"sk-toggleable__label sk-toggleable__label-arrow\">LinearRegression</label><div class=\"sk-toggleable__content\"><pre>LinearRegression()</pre></div></div></div></div></div>"
      ],
      "text/plain": [
       "LinearRegression()"
      ]
     },
     "execution_count": 19,
     "metadata": {},
     "output_type": "execute_result"
    }
   ],
   "source": [
    "#Fit the model\n",
    "model.fit(X,y)"
   ]
  },
  {
   "cell_type": "code",
   "execution_count": 20,
   "id": "9NbtsARyL-oi",
   "metadata": {
    "colab": {
     "base_uri": "https://localhost:8080/"
    },
    "id": "9NbtsARyL-oi",
    "outputId": "5811254f-f2af-402d-98a8-c268e0a7b6f1"
   },
   "outputs": [
    {
     "data": {
      "text/plain": [
       "0.5177484222203499"
      ]
     },
     "execution_count": 20,
     "metadata": {},
     "output_type": "execute_result"
    }
   ],
   "source": [
    "#Get coefficient of determination\n",
    "model.score(X,y)"
   ]
  },
  {
   "cell_type": "code",
   "execution_count": 21,
   "id": "_fN808BrL-oi",
   "metadata": {
    "colab": {
     "base_uri": "https://localhost:8080/"
    },
    "id": "_fN808BrL-oi",
    "outputId": "fb32a548-73b1-4a42-db92-3b3bc4d6cd7a"
   },
   "outputs": [
    {
     "data": {
      "text/plain": [
       "array([ -10.0098663 , -239.81564367,  519.84592005,  324.3846455 ,\n",
       "       -792.17563855,  476.73902101,  101.04326794,  177.06323767,\n",
       "        751.27369956,   67.62669218])"
      ]
     },
     "execution_count": 21,
     "metadata": {},
     "output_type": "execute_result"
    }
   ],
   "source": [
    "#Model coefficients\n",
    "model.coef_"
   ]
  },
  {
   "cell_type": "code",
   "execution_count": 22,
   "id": "uleyXRNZL-oi",
   "metadata": {
    "colab": {
     "base_uri": "https://localhost:8080/"
    },
    "id": "uleyXRNZL-oi",
    "outputId": "af9cd9d1-7400-46d6-a2c1-c3de88680c52"
   },
   "outputs": [
    {
     "data": {
      "text/plain": [
       "152.13348416289597"
      ]
     },
     "execution_count": 22,
     "metadata": {},
     "output_type": "execute_result"
    }
   ],
   "source": [
    "#Model Intercept\n",
    "model.intercept_"
   ]
  },
  {
   "cell_type": "code",
   "execution_count": 23,
   "id": "auaYH6thL-oi",
   "metadata": {
    "colab": {
     "base_uri": "https://localhost:8080/"
    },
    "id": "auaYH6thL-oi",
    "outputId": "8251e9d7-19cd-4b66-ab89-c621eecf6b63",
    "scrolled": true
   },
   "outputs": [
    {
     "data": {
      "text/plain": [
       "array([206.11667725,  68.07103297, 176.88279035, 166.91445843,\n",
       "       128.46225834, 106.35191443,  73.89134662, 118.85423042,\n",
       "       158.80889721, 213.58462442,  97.07481511,  95.10108423,\n",
       "       115.06915952, 164.67656842, 103.07814257, 177.17487964,\n",
       "       211.7570922 , 182.84134823, 148.00326937, 124.01754066,\n",
       "       120.33362197,  85.80068961, 113.1134589 , 252.45225837,\n",
       "       165.48779206, 147.71997564,  97.12871541, 179.09358468,\n",
       "       129.05345958, 184.7811403 , 158.71516713,  69.47575778,\n",
       "       261.50385365, 112.82234716,  78.37318279,  87.66360785,\n",
       "       207.92114668, 157.87641942, 240.84708073, 136.93257456,\n",
       "       153.48044608,  74.15426666, 145.62742227,  77.82978811,\n",
       "       221.07832768, 125.21957584, 142.6029986 , 109.49562511,\n",
       "        73.14181818, 189.87117754, 157.9350104 , 169.55699526,\n",
       "       134.1851441 , 157.72539008, 139.11104979,  72.73116856,\n",
       "       207.82676612,  80.11171342, 104.08335958, 134.57871054,\n",
       "       114.23552012, 180.67628279,  61.12935368,  98.72404613,\n",
       "       113.79577026, 189.95771575, 148.98351571, 124.34152283,\n",
       "       114.8395504 , 121.99957578,  73.91017087, 236.71054289,\n",
       "       142.31126791, 124.51672384, 150.84073896, 127.75230658,\n",
       "       191.16896496,  77.05671154, 166.82164929,  91.00591229,\n",
       "       174.75156797, 122.83451589,  63.27231315, 151.99867317,\n",
       "        53.72959077, 166.0050229 ,  42.6491333 , 153.04229493,\n",
       "        80.54701716, 106.90148495,  79.93968011, 187.1672654 ,\n",
       "       192.5989033 ,  61.07398313, 107.4076912 , 125.04307496,\n",
       "       207.72402726, 214.21248827, 123.47464895, 139.16439034,\n",
       "       168.21372017, 106.92902558, 150.64748328, 157.92364009,\n",
       "       152.75958287, 116.22381927,  73.03167734, 155.67052006,\n",
       "       230.1417777 , 143.49797317,  38.09587272, 121.8593267 ,\n",
       "       152.79404663, 207.99702587, 291.23106133, 189.17571129,\n",
       "       214.02877593, 235.18106509, 165.38480498, 151.2469168 ,\n",
       "       156.57659557, 200.44066818, 219.35193167, 174.78830391,\n",
       "       169.23118221, 187.87537099,  57.49340026, 108.54836058,\n",
       "        92.68731024, 210.87347343, 245.47097701,  69.84285129,\n",
       "       113.03485904,  68.42650654, 141.69639374, 239.46240737,\n",
       "        58.37858726, 235.47123197, 254.92309543, 253.30708899,\n",
       "       155.51063293, 230.55961445, 170.44330954, 117.9953395 ,\n",
       "       178.55406527, 240.07119308, 190.33892524, 228.66470581,\n",
       "       114.24456339, 178.36552308, 209.091817  , 144.85615197,\n",
       "       200.65926745, 121.34295733, 150.50993019, 199.01879825,\n",
       "       146.27926469, 124.02163345,  85.25913019, 235.16173729,\n",
       "        82.1730808 , 231.29474031, 144.36940116, 197.04628448,\n",
       "       146.99841953,  77.18813284,  59.37368356, 262.68557988,\n",
       "       225.12900796, 220.20301952,  46.59651844,  88.10194612,\n",
       "       221.77450036,  97.25199783, 164.48838425, 119.90096817,\n",
       "       157.80220788, 223.08012207,  99.59081773, 165.84386951,\n",
       "       179.47680741,  89.83353846, 171.82590335, 158.36419935,\n",
       "       201.48185539, 186.39194958, 197.47424761,  66.57371647,\n",
       "       154.59985312, 116.18319159, 195.91755793, 128.04834496,\n",
       "        91.20395862, 140.57223765, 155.22669143, 169.70326581,\n",
       "        98.7573858 , 190.14568824, 142.51704894, 177.27157771,\n",
       "        95.30812216,  69.06191507, 164.16391317, 198.0659024 ,\n",
       "       178.25996632, 228.58539684, 160.67104137, 212.28734795,\n",
       "       222.4833913 , 172.85421282, 125.27946793, 174.72103207,\n",
       "       152.38094643,  98.58135665,  99.73771331, 262.29507095,\n",
       "       223.74033222, 221.33976142, 133.61470602, 145.42828204,\n",
       "        53.04569008, 141.82052358, 153.68617582, 125.22290891,\n",
       "        77.25168449, 230.26180811,  78.9090807 , 105.2051755 ,\n",
       "       117.99622779,  99.06233889, 166.55796947, 159.34137227,\n",
       "       158.27448255, 143.05684078, 231.55890118, 176.64724258,\n",
       "       187.23580712,  65.39099908, 190.66218796, 179.75181691,\n",
       "       234.9080532 , 119.15669025,  85.63551834, 100.8597527 ,\n",
       "       140.41937377, 101.83524022, 120.66560385,  83.0664276 ,\n",
       "       234.58488012, 245.15862773, 263.26954282, 274.87127261,\n",
       "       180.67257769, 203.05642297, 254.21625849, 118.44300922,\n",
       "       268.45369506, 104.83843473, 115.86820464, 140.45857194,\n",
       "        58.46948192, 129.83145265, 263.78607272,  45.00934573,\n",
       "       123.28890007, 131.0856888 ,  34.89181681, 138.35467112,\n",
       "       244.30103923,  89.95923929, 192.07096194, 164.33017386,\n",
       "       147.74779723, 191.89092557, 176.44360299, 158.3490221 ,\n",
       "       189.19166962, 116.58117777, 111.449754  , 117.45232726,\n",
       "       165.79598354,  97.80405886, 139.54451791,  84.17319946,\n",
       "       159.93677518, 202.39971737,  80.48131518, 146.64558568,\n",
       "        79.05314048, 191.33777472, 220.67516721, 203.75017281,\n",
       "        92.86459928, 179.15576252,  81.79874055, 152.8290929 ,\n",
       "        76.80052219,  97.79590831, 106.8371012 , 123.83461591,\n",
       "       218.13908293, 126.01937664, 206.7587966 , 230.5767944 ,\n",
       "       122.05921633, 135.67824405, 126.37042532, 148.49374458,\n",
       "        88.07147107, 138.95823614, 203.8691938 , 172.55288732,\n",
       "       122.95701477, 213.92310163, 174.89158814, 110.07294222,\n",
       "       198.36584973, 173.25229067, 162.64748776, 193.31578983,\n",
       "       191.53493643, 284.13932209, 279.31133207, 216.00823829,\n",
       "       210.08668656, 216.21612991, 157.01450004, 224.06431372,\n",
       "       189.06103154, 103.56515315, 178.70270016, 111.81862434,\n",
       "       291.00196609, 182.64651752,  79.33315426,  86.33029851,\n",
       "       249.1510082 , 174.51537682, 122.10291074, 146.2718871 ,\n",
       "       170.65483847, 183.497196  , 163.36806262, 157.03297709,\n",
       "       144.42614949, 125.30053093, 177.50251197, 104.57681546,\n",
       "       132.17560518,  95.06210623, 249.89755705,  86.23824126,\n",
       "        61.99847009, 156.81295053, 192.32218372, 133.85525804,\n",
       "        93.67249793, 202.49572354,  52.54148927, 174.82799914,\n",
       "       196.91468873, 118.06336979, 235.29941812, 165.09438096,\n",
       "       160.41761959, 162.37786753, 254.05587268, 257.23492156,\n",
       "       197.5039462 , 184.06877122,  58.62131994, 194.39216636,\n",
       "       110.775815  , 142.20991224, 128.82520996, 180.13082199,\n",
       "       211.26488624, 169.59494046, 164.33851796, 136.23374077,\n",
       "       174.51001028,  74.67587343, 246.29432383, 114.14494406,\n",
       "       111.54552901, 140.0224376 , 109.99895704,  91.37283987,\n",
       "       163.01540596,  75.16804478, 254.06119047,  53.47338214,\n",
       "        98.48397565, 100.66315554, 258.58683032, 170.67256752,\n",
       "        61.91771186, 182.31148421, 171.26948629, 189.19505093,\n",
       "       187.18494664,  87.12170524, 148.37964317, 251.35815403,\n",
       "       199.69656904, 283.63576862,  50.85911237, 172.14766276,\n",
       "       204.05976093, 174.16540137, 157.93182911, 150.50028158,\n",
       "       232.97445368, 121.5814873 , 164.54245461, 172.67625919,\n",
       "       226.7768891 , 149.46832104,  99.13924946,  80.43418456,\n",
       "       140.16148637, 191.90710484, 199.28001608, 153.63277325,\n",
       "       171.80344337, 112.11054883, 162.60002916, 129.84290324,\n",
       "       258.03100468, 100.70810916, 115.87608197, 122.53559675,\n",
       "       218.1797988 ,  60.94350929, 131.09296884, 119.48376601,\n",
       "        52.60911672, 193.01756549, 101.05581371, 121.22668124,\n",
       "       211.85894518,  53.44727472])"
      ]
     },
     "execution_count": 23,
     "metadata": {},
     "output_type": "execute_result"
    }
   ],
   "source": [
    "#Get predictions given features\n",
    "model.predict(X)"
   ]
  },
  {
   "cell_type": "markdown",
   "id": "CGycrGyAL-oi",
   "metadata": {
    "id": "CGycrGyAL-oi"
   },
   "source": [
    "# scikit-learn metrics"
   ]
  },
  {
   "cell_type": "code",
   "execution_count": 24,
   "id": "UHn-zEs1L-oj",
   "metadata": {
    "id": "UHn-zEs1L-oj"
   },
   "outputs": [],
   "source": [
    "from sklearn.metrics import r2_score,mean_absolute_error,mean_squared_error"
   ]
  },
  {
   "cell_type": "code",
   "execution_count": 25,
   "id": "0c6bsBZVL-oj",
   "metadata": {
    "colab": {
     "base_uri": "https://localhost:8080/"
    },
    "id": "0c6bsBZVL-oj",
    "outputId": "0f763a24-9c35-4a25-f875-b601ed403a71"
   },
   "outputs": [
    {
     "data": {
      "text/plain": [
       "0.5177484222203498"
      ]
     },
     "execution_count": 25,
     "metadata": {},
     "output_type": "execute_result"
    }
   ],
   "source": [
    "r2_score(y,y_pred_ols)"
   ]
  },
  {
   "cell_type": "code",
   "execution_count": 26,
   "id": "a8XYRQ_ML-oj",
   "metadata": {
    "colab": {
     "base_uri": "https://localhost:8080/"
    },
    "id": "a8XYRQ_ML-oj",
    "outputId": "7256d807-0be4-41f9-8fba-ea131b86f86f"
   },
   "outputs": [
    {
     "data": {
      "text/plain": [
       "43.27745202531506"
      ]
     },
     "execution_count": 26,
     "metadata": {},
     "output_type": "execute_result"
    }
   ],
   "source": [
    "mean_absolute_error(y,y_pred_ols)"
   ]
  },
  {
   "cell_type": "code",
   "execution_count": 27,
   "id": "7q9gipPSL-oj",
   "metadata": {
    "colab": {
     "base_uri": "https://localhost:8080/"
    },
    "id": "7q9gipPSL-oj",
    "outputId": "7d12956f-b970-4509-acb5-9602b5ec1cc3"
   },
   "outputs": [
    {
     "data": {
      "text/plain": [
       "53.476128764026576"
      ]
     },
     "execution_count": 27,
     "metadata": {},
     "output_type": "execute_result"
    }
   ],
   "source": [
    "mean_squared_error(y,y_pred_ols,squared=False)"
   ]
  },
  {
   "cell_type": "markdown",
   "id": "kAwH1dqCL-oj",
   "metadata": {
    "id": "kAwH1dqCL-oj"
   },
   "source": [
    "# Dataset splitting"
   ]
  },
  {
   "cell_type": "code",
   "execution_count": 46,
   "id": "v0ND3J15L-oj",
   "metadata": {
    "id": "v0ND3J15L-oj"
   },
   "outputs": [],
   "source": [
    "from sklearn.model_selection import train_test_split"
   ]
  },
  {
   "cell_type": "code",
   "execution_count": 47,
   "id": "BOFlUmYgL-oj",
   "metadata": {
    "id": "BOFlUmYgL-oj"
   },
   "outputs": [],
   "source": [
    "X_train, X_test, y_train, y_test = train_test_split(X,y,test_size=0.3,random_state = 123)"
   ]
  },
  {
   "cell_type": "code",
   "execution_count": 48,
   "id": "JgjcNPEuL-ok",
   "metadata": {
    "colab": {
     "base_uri": "https://localhost:8080/",
     "height": 74
    },
    "id": "JgjcNPEuL-ok",
    "outputId": "f3a517ee-3663-4947-c1b2-bab9e04d181c"
   },
   "outputs": [
    {
     "data": {
      "text/html": [
       "<style>#sk-container-id-3 {color: black;background-color: white;}#sk-container-id-3 pre{padding: 0;}#sk-container-id-3 div.sk-toggleable {background-color: white;}#sk-container-id-3 label.sk-toggleable__label {cursor: pointer;display: block;width: 100%;margin-bottom: 0;padding: 0.3em;box-sizing: border-box;text-align: center;}#sk-container-id-3 label.sk-toggleable__label-arrow:before {content: \"▸\";float: left;margin-right: 0.25em;color: #696969;}#sk-container-id-3 label.sk-toggleable__label-arrow:hover:before {color: black;}#sk-container-id-3 div.sk-estimator:hover label.sk-toggleable__label-arrow:before {color: black;}#sk-container-id-3 div.sk-toggleable__content {max-height: 0;max-width: 0;overflow: hidden;text-align: left;background-color: #f0f8ff;}#sk-container-id-3 div.sk-toggleable__content pre {margin: 0.2em;color: black;border-radius: 0.25em;background-color: #f0f8ff;}#sk-container-id-3 input.sk-toggleable__control:checked~div.sk-toggleable__content {max-height: 200px;max-width: 100%;overflow: auto;}#sk-container-id-3 input.sk-toggleable__control:checked~label.sk-toggleable__label-arrow:before {content: \"▾\";}#sk-container-id-3 div.sk-estimator input.sk-toggleable__control:checked~label.sk-toggleable__label {background-color: #d4ebff;}#sk-container-id-3 div.sk-label input.sk-toggleable__control:checked~label.sk-toggleable__label {background-color: #d4ebff;}#sk-container-id-3 input.sk-hidden--visually {border: 0;clip: rect(1px 1px 1px 1px);clip: rect(1px, 1px, 1px, 1px);height: 1px;margin: -1px;overflow: hidden;padding: 0;position: absolute;width: 1px;}#sk-container-id-3 div.sk-estimator {font-family: monospace;background-color: #f0f8ff;border: 1px dotted black;border-radius: 0.25em;box-sizing: border-box;margin-bottom: 0.5em;}#sk-container-id-3 div.sk-estimator:hover {background-color: #d4ebff;}#sk-container-id-3 div.sk-parallel-item::after {content: \"\";width: 100%;border-bottom: 1px solid gray;flex-grow: 1;}#sk-container-id-3 div.sk-label:hover label.sk-toggleable__label {background-color: #d4ebff;}#sk-container-id-3 div.sk-serial::before {content: \"\";position: absolute;border-left: 1px solid gray;box-sizing: border-box;top: 0;bottom: 0;left: 50%;z-index: 0;}#sk-container-id-3 div.sk-serial {display: flex;flex-direction: column;align-items: center;background-color: white;padding-right: 0.2em;padding-left: 0.2em;position: relative;}#sk-container-id-3 div.sk-item {position: relative;z-index: 1;}#sk-container-id-3 div.sk-parallel {display: flex;align-items: stretch;justify-content: center;background-color: white;position: relative;}#sk-container-id-3 div.sk-item::before, #sk-container-id-3 div.sk-parallel-item::before {content: \"\";position: absolute;border-left: 1px solid gray;box-sizing: border-box;top: 0;bottom: 0;left: 50%;z-index: -1;}#sk-container-id-3 div.sk-parallel-item {display: flex;flex-direction: column;z-index: 1;position: relative;background-color: white;}#sk-container-id-3 div.sk-parallel-item:first-child::after {align-self: flex-end;width: 50%;}#sk-container-id-3 div.sk-parallel-item:last-child::after {align-self: flex-start;width: 50%;}#sk-container-id-3 div.sk-parallel-item:only-child::after {width: 0;}#sk-container-id-3 div.sk-dashed-wrapped {border: 1px dashed gray;margin: 0 0.4em 0.5em 0.4em;box-sizing: border-box;padding-bottom: 0.4em;background-color: white;}#sk-container-id-3 div.sk-label label {font-family: monospace;font-weight: bold;display: inline-block;line-height: 1.2em;}#sk-container-id-3 div.sk-label-container {text-align: center;}#sk-container-id-3 div.sk-container {/* jupyter's `normalize.less` sets `[hidden] { display: none; }` but bootstrap.min.css set `[hidden] { display: none !important; }` so we also need the `!important` here to be able to override the default hidden behavior on the sphinx rendered scikit-learn.org. See: https://github.com/scikit-learn/scikit-learn/issues/21755 */display: inline-block !important;position: relative;}#sk-container-id-3 div.sk-text-repr-fallback {display: none;}</style><div id=\"sk-container-id-3\" class=\"sk-top-container\"><div class=\"sk-text-repr-fallback\"><pre>LinearRegression()</pre><b>In a Jupyter environment, please rerun this cell to show the HTML representation or trust the notebook. <br />On GitHub, the HTML representation is unable to render, please try loading this page with nbviewer.org.</b></div><div class=\"sk-container\" hidden><div class=\"sk-item\"><div class=\"sk-estimator sk-toggleable\"><input class=\"sk-toggleable__control sk-hidden--visually\" id=\"sk-estimator-id-3\" type=\"checkbox\" checked><label for=\"sk-estimator-id-3\" class=\"sk-toggleable__label sk-toggleable__label-arrow\">LinearRegression</label><div class=\"sk-toggleable__content\"><pre>LinearRegression()</pre></div></div></div></div></div>"
      ],
      "text/plain": [
       "LinearRegression()"
      ]
     },
     "execution_count": 48,
     "metadata": {},
     "output_type": "execute_result"
    }
   ],
   "source": [
    "model = LinearRegression()\n",
    "model.fit(X_train,y_train)"
   ]
  },
  {
   "cell_type": "code",
   "execution_count": 49,
   "id": "j_X5NErKL-ok",
   "metadata": {
    "colab": {
     "base_uri": "https://localhost:8080/"
    },
    "id": "j_X5NErKL-ok",
    "outputId": "1c54f316-1814-4291-827e-c86fe05a1aad"
   },
   "outputs": [
    {
     "data": {
      "text/plain": [
       "0.5078253552814807"
      ]
     },
     "execution_count": 49,
     "metadata": {},
     "output_type": "execute_result"
    }
   ],
   "source": [
    "model.score(X_test,y_test)"
   ]
  },
  {
   "cell_type": "code",
   "execution_count": 50,
   "id": "tjTSl5vRL-ok",
   "metadata": {
    "colab": {
     "base_uri": "https://localhost:8080/"
    },
    "id": "tjTSl5vRL-ok",
    "outputId": "9015d937-bcb5-44b3-f6e7-1e0e25b45087"
   },
   "outputs": [
    {
     "data": {
      "text/plain": [
       "0.5174981091172834"
      ]
     },
     "execution_count": 50,
     "metadata": {},
     "output_type": "execute_result"
    }
   ],
   "source": [
    "model.score(X_train,y_train)"
   ]
  },
  {
   "cell_type": "code",
   "execution_count": 33,
   "id": "dcR44x1EL-ok",
   "metadata": {
    "id": "dcR44x1EL-ok"
   },
   "outputs": [],
   "source": [
    "from sklearn.model_selection import cross_val_score,cross_validate"
   ]
  },
  {
   "cell_type": "code",
   "execution_count": 51,
   "id": "dwNDaCwTL-ok",
   "metadata": {
    "id": "dwNDaCwTL-ok"
   },
   "outputs": [],
   "source": [
    "model = LinearRegression()\n",
    "scores = cross_val_score(model,X_train,y_train,cv=10)"
   ]
  },
  {
   "cell_type": "code",
   "execution_count": 52,
   "id": "yg84fACQL-ok",
   "metadata": {
    "colab": {
     "base_uri": "https://localhost:8080/"
    },
    "id": "yg84fACQL-ok",
    "outputId": "ca5f5ebf-da32-47f8-8aeb-104b56d03c7e"
   },
   "outputs": [
    {
     "data": {
      "text/plain": [
       "array([0.35468991, 0.54297326, 0.46332605, 0.47402725, 0.39454652,\n",
       "       0.66136919, 0.63776782, 0.34669144, 0.30565147, 0.37444287])"
      ]
     },
     "execution_count": 52,
     "metadata": {},
     "output_type": "execute_result"
    }
   ],
   "source": [
    "scores"
   ]
  },
  {
   "cell_type": "code",
   "execution_count": 53,
   "id": "UdXYCa1xL-ok",
   "metadata": {
    "colab": {
     "base_uri": "https://localhost:8080/"
    },
    "id": "UdXYCa1xL-ok",
    "outputId": "9071b6b4-147c-4422-b1b1-835b3e137ad6"
   },
   "outputs": [
    {
     "data": {
      "text/plain": [
       "(0.45554857813014316, 0.11764432771634929)"
      ]
     },
     "execution_count": 53,
     "metadata": {},
     "output_type": "execute_result"
    }
   ],
   "source": [
    "scores.mean(),scores.std()"
   ]
  },
  {
   "cell_type": "code",
   "execution_count": 54,
   "id": "R9DOB_scL-ol",
   "metadata": {
    "id": "R9DOB_scL-ol"
   },
   "outputs": [],
   "source": [
    "scoring = ['r2','neg_mean_absolute_error']\n",
    "scores = cross_validate(model,X_train,y_train,cv=10,scoring=scoring,return_train_score=True)"
   ]
  },
  {
   "cell_type": "code",
   "execution_count": 55,
   "id": "wXJzaTQ_L-ol",
   "metadata": {
    "colab": {
     "base_uri": "https://localhost:8080/"
    },
    "id": "wXJzaTQ_L-ol",
    "outputId": "a8758809-80e3-405f-f8ed-c8036ece509a"
   },
   "outputs": [
    {
     "data": {
      "text/plain": [
       "{'fit_time': array([0.00953555, 0.00290203, 0.00209284, 0.00207472, 0.00210261,\n",
       "        0.00200701, 0.00192881, 0.00191975, 0.00188851, 0.00233555]),\n",
       " 'score_time': array([0.00132799, 0.0010736 , 0.00107718, 0.00171375, 0.00108051,\n",
       "        0.00103426, 0.00106096, 0.00106621, 0.00105834, 0.00112939]),\n",
       " 'test_r2': array([0.35468991, 0.54297326, 0.46332605, 0.47402725, 0.39454652,\n",
       "        0.66136919, 0.63776782, 0.34669144, 0.30565147, 0.37444287]),\n",
       " 'train_r2': array([0.53149221, 0.50717085, 0.52281891, 0.51898657, 0.52709628,\n",
       "        0.49945342, 0.49352071, 0.52922205, 0.5356859 , 0.5260995 ]),\n",
       " 'test_neg_mean_absolute_error': array([-46.08218051, -37.52361453, -49.96815769, -44.96003703,\n",
       "        -47.05166615, -35.67055202, -46.38082717, -43.85269421,\n",
       "        -48.98629127, -46.01451736]),\n",
       " 'train_neg_mean_absolute_error': array([-42.68476855, -43.79369158, -42.40783359, -42.96435868,\n",
       "        -42.69804572, -43.992924  , -42.93003702, -43.02976311,\n",
       "        -42.31322561, -42.92404536])}"
      ]
     },
     "execution_count": 55,
     "metadata": {},
     "output_type": "execute_result"
    }
   ],
   "source": [
    "scores"
   ]
  },
  {
   "cell_type": "code",
   "execution_count": null,
   "id": "nT5P6NPChJ_x",
   "metadata": {
    "id": "nT5P6NPChJ_x"
   },
   "outputs": [],
   "source": []
  }
 ],
 "metadata": {
  "colab": {
   "provenance": []
  },
  "kernelspec": {
   "display_name": "Python 3 (ipykernel)",
   "language": "python",
   "name": "python3"
  },
  "language_info": {
   "codemirror_mode": {
    "name": "ipython",
    "version": 3
   },
   "file_extension": ".py",
   "mimetype": "text/x-python",
   "name": "python",
   "nbconvert_exporter": "python",
   "pygments_lexer": "ipython3",
   "version": "3.12.1"
  }
 },
 "nbformat": 4,
 "nbformat_minor": 5
}
